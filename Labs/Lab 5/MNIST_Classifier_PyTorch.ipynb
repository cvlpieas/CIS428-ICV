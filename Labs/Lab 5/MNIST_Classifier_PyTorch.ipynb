{
 "cells": [
  {
   "cell_type": "code",
   "execution_count": 1,
   "metadata": {},
   "outputs": [],
   "source": [
    "import torch\n",
    "import torch.nn as nn\n",
    "import torch.optim as optim\n",
    "import torchvision\n",
    "import torchvision.datasets as datasets\n",
    "import torchvision.transforms as transforms"
   ]
  },
  {
   "cell_type": "markdown",
   "metadata": {},
   "source": [
    "## Load and Preprocess Data"
   ]
  },
  {
   "cell_type": "code",
   "execution_count": 47,
   "metadata": {},
   "outputs": [],
   "source": [
    "preprocess = transforms.Compose([\n",
    "    transforms.ToTensor(),\n",
    "    transforms.Normalize((0.5), (0.5))\n",
    "])"
   ]
  },
  {
   "cell_type": "markdown",
   "metadata": {},
   "source": [
    " Normalize((mean), (std))"
   ]
  },
  {
   "cell_type": "code",
   "execution_count": 48,
   "metadata": {},
   "outputs": [],
   "source": [
    "trainset = datasets.MNIST('dataset/', train=True, download=True, transform=preprocess)\n",
    "testset = datasets.MNIST('dataset/', train=False, download=True, transform=preprocess)"
   ]
  },
  {
   "cell_type": "code",
   "execution_count": null,
   "metadata": {},
   "outputs": [],
   "source": []
  },
  {
   "cell_type": "code",
   "execution_count": 49,
   "metadata": {},
   "outputs": [],
   "source": [
    "trainloader = torch.utils.data.DataLoader(trainset, batch_size=64, shuffle=True)\n",
    "testloader = torch.utils.data.DataLoader(testset, batch_size=64, shuffle=True)"
   ]
  },
  {
   "cell_type": "code",
   "execution_count": null,
   "metadata": {},
   "outputs": [],
   "source": []
  },
  {
   "cell_type": "markdown",
   "metadata": {},
   "source": [
    "## Building the Neural Network"
   ]
  },
  {
   "cell_type": "code",
   "execution_count": 5,
   "metadata": {},
   "outputs": [],
   "source": [
    "nf = 32\n",
    "lr = 0.0001\n",
    "beta1 = 0.5\n",
    "beta2 = 0.999\n",
    "device = \"cuda\" if torch.cuda.is_available() else \"cpu\""
   ]
  },
  {
   "cell_type": "code",
   "execution_count": null,
   "metadata": {},
   "outputs": [],
   "source": []
  },
  {
   "cell_type": "code",
   "execution_count": 2,
   "metadata": {},
   "outputs": [
    {
     "data": {
      "text/plain": [
       "False"
      ]
     },
     "execution_count": 2,
     "metadata": {},
     "output_type": "execute_result"
    }
   ],
   "source": [
    "torch.cuda.is_available()"
   ]
  },
  {
   "cell_type": "code",
   "execution_count": 38,
   "metadata": {
    "tags": []
   },
   "outputs": [],
   "source": [
    "class Net(nn.Module):\n",
    "    def __init__(self):\n",
    "        super(Net, self).__init__()\n",
    "\n",
    "        self.convs = nn.Sequential(\n",
    "            # input channels, output channels, filter size, stride, padding\n",
    "            nn.Conv2d(1, nf, kernel_size=3, stride=1, padding=1),\n",
    "            nn.ReLU(),\n",
    "\n",
    "            nn.Conv2d(nf, nf, kernel_size=3, stride=1, padding=1),\n",
    "            nn.ReLU(),\n",
    "            nn.MaxPool2d(kernel_size=2, stride=2), # resultant size will be 32x14x14\n",
    "\n",
    "            nn.Conv2d(nf, nf, kernel_size=3, stride=1, padding=1),\n",
    "            nn.ReLU(),\n",
    "            nn.MaxPool2d(kernel_size=2, stride=2), # resultant size will be 32x7x7\n",
    "        )\n",
    "        \n",
    "        # fully connected layers\n",
    "        self.linears = nn.Sequential(\n",
    "            # (input vector size, number of neurons)\n",
    "            nn.Linear(1568, 100), # width=7, height=7, filters=32; linear layer input = 7*7*32 = 1568\n",
    "            nn.ReLU(),\n",
    "\n",
    "            nn.Linear(100, 50), \n",
    "            nn.ReLU(),\n",
    "\n",
    "            nn.Linear(50, 10),\n",
    "        )\n",
    "\n",
    "    def forward(self, x):\n",
    "        x = self.convs(x)\n",
    "        x = x.view(x.shape[0], -1) # flattening, result will be (64, 1568)\n",
    "        x = self.linears(x)\n",
    "        return x"
   ]
  },
  {
   "cell_type": "code",
   "execution_count": 39,
   "metadata": {
    "tags": []
   },
   "outputs": [
    {
     "name": "stdout",
     "output_type": "stream",
     "text": [
      "torch.Size([64, 10])\n"
     ]
    }
   ],
   "source": [
    "n = Net()\n",
    "x = torch.rand((64, 1, 28, 28))\n",
    "out = n(x)\n",
    "print(out.size())"
   ]
  },
  {
   "cell_type": "markdown",
   "metadata": {},
   "source": [
    "### Convolution size formula\n",
    "\n",
    "outputWidth = (inputWidth - filterSize + (2 * padding)) / stride + 1\n",
    "\n",
    "outputHeight = (inputHeight - filterSize + (2 * padding)) / stride + 1\n",
    "\n",
    "### Max pool size formula\n",
    "\n",
    "outputWidth = (inputWidth - filterSize) / stride + 1\n",
    "\n",
    "outputHeight = (inputHeight - filterSize) / stride + 1\n"
   ]
  },
  {
   "cell_type": "markdown",
   "metadata": {},
   "source": [
    "## Write the Training Loop"
   ]
  },
  {
   "cell_type": "code",
   "execution_count": 7,
   "metadata": {},
   "outputs": [],
   "source": [
    "model = Net().to(device)\n",
    "optimizer = optim.Adam(model.parameters(), lr=lr, betas=(beta1, beta2))\n",
    "criterion_CE = nn.CrossEntropyLoss().to(device)"
   ]
  },
  {
   "cell_type": "code",
   "execution_count": null,
   "metadata": {},
   "outputs": [],
   "source": []
  },
  {
   "cell_type": "code",
   "execution_count": 9,
   "metadata": {},
   "outputs": [
    {
     "name": "stdout",
     "output_type": "stream",
     "text": [
      "Starting epoch 0 of 3\n",
      "Loss: 0.03078802116215229\n",
      "Starting epoch 1 of 3\n",
      "Loss: 0.05547785386443138\n",
      "Starting epoch 2 of 3\n",
      "Loss: 0.06214237958192825\n"
     ]
    }
   ],
   "source": [
    "epoch = 3\n",
    "model.train()\n",
    "for e in range(epoch):\n",
    "    print(f'Starting epoch {e} of {epoch}')\n",
    "    for X, y in trainloader:\n",
    "        X = X.to(device)\n",
    "        predictions = model(X) # prediction\n",
    "        \n",
    "        optimizer.zero_grad() # optimzer clean (remove previous gradient)\n",
    "        loss = criterion_CE(predictions, y) # loss calculate\n",
    "        loss.backward() # gradient calculate\n",
    "        optimizer.step() # apply calculated gradient\n",
    "    print(f'Loss: {loss.item()}')\n",
    "\n",
    "torch.save(model.state_dict(), \"model.pt\")"
   ]
  },
  {
   "cell_type": "markdown",
   "metadata": {},
   "source": [
    "## Write the Testing Loop"
   ]
  },
  {
   "cell_type": "code",
   "execution_count": 10,
   "metadata": {},
   "outputs": [
    {
     "name": "stdout",
     "output_type": "stream",
     "text": [
      "accuracy: 9851/10000 (0.9851 or 98.50999999999999%)\n"
     ]
    }
   ],
   "source": [
    "model.eval()\n",
    "correct = 0\n",
    "for X, y in testloader:\n",
    "    with torch.no_grad():\n",
    "        X = X.to(device)\n",
    "        output = model(X)\n",
    "        predictions = output.max(1)[1]\n",
    "        correct += torch.eq(predictions, y).sum()\n",
    "\n",
    "print(f'accuracy: {int(correct)}/{len(testloader.dataset)} ({int(correct)/len(testloader.dataset)} or {int(correct)/len(testloader.dataset) * 100}%)')"
   ]
  },
  {
   "cell_type": "code",
   "execution_count": 43,
   "metadata": {},
   "outputs": [
    {
     "data": {
      "text/plain": [
       "<All keys matched successfully>"
      ]
     },
     "execution_count": 43,
     "metadata": {},
     "output_type": "execute_result"
    }
   ],
   "source": [
    "model2 = Net()\n",
    "\n",
    "model2.load_state_dict(torch.load('model.pt', map_location=torch.device(device)))"
   ]
  },
  {
   "cell_type": "code",
   "execution_count": 50,
   "metadata": {},
   "outputs": [
    {
     "name": "stdout",
     "output_type": "stream",
     "text": [
      "accuracy: 9851/10000 (0.9851 or 98.50999999999999%)\n"
     ]
    }
   ],
   "source": [
    "model2.eval()\n",
    "correct = 0\n",
    "for X, y in testloader:\n",
    "    with torch.no_grad():\n",
    "        X = X.to(device)\n",
    "        output = model2(X)\n",
    "        predictions = output.max(1)[1]\n",
    "        correct += torch.eq(predictions, y).sum()\n",
    "\n",
    "print(f'accuracy: {int(correct)}/{len(testloader.dataset)} ({int(correct)/len(testloader.dataset)} or {int(correct)/len(testloader.dataset) * 100}%)')"
   ]
  },
  {
   "cell_type": "code",
   "execution_count": null,
   "metadata": {},
   "outputs": [],
   "source": []
  }
 ],
 "metadata": {
  "kernelspec": {
   "display_name": "Python 3",
   "language": "python",
   "name": "python3"
  },
  "language_info": {
   "codemirror_mode": {
    "name": "ipython",
    "version": 3
   },
   "file_extension": ".py",
   "mimetype": "text/x-python",
   "name": "python",
   "nbconvert_exporter": "python",
   "pygments_lexer": "ipython3",
   "version": "3.7.10"
  }
 },
 "nbformat": 4,
 "nbformat_minor": 4
}
