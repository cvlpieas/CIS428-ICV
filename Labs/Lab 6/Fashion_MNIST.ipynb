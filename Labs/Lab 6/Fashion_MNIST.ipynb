{
 "cells": [
  {
   "cell_type": "code",
   "execution_count": 19,
   "id": "737b7da5",
   "metadata": {},
   "outputs": [],
   "source": [
    "import torch\n",
    "import torch.nn as nn\n",
    "import torch.optim as optim\n",
    "import torchvision\n",
    "import torchvision.datasets as datasets\n",
    "import torchvision.transforms as transforms"
   ]
  },
  {
   "cell_type": "markdown",
   "id": "15020c68",
   "metadata": {},
   "source": [
    "## Load and Preprocess the Data"
   ]
  },
  {
   "cell_type": "code",
   "execution_count": 20,
   "id": "16483433",
   "metadata": {},
   "outputs": [],
   "source": [
    "preprocess = transforms.Compose([\n",
    "    transforms.ToTensor(),\n",
    "    transforms.Normalize((0.5), (0.5))\n",
    "])"
   ]
  },
  {
   "cell_type": "code",
   "execution_count": 21,
   "id": "0e787c6e",
   "metadata": {},
   "outputs": [],
   "source": [
    "trainset = datasets.FashionMNIST('dataset/', train=True, download=True, transform=preprocess)\n",
    "testset = datasets.FashionMNIST('dataset/', train=False, download=True, transform=preprocess)"
   ]
  },
  {
   "cell_type": "code",
   "execution_count": 22,
   "id": "a170b259",
   "metadata": {},
   "outputs": [],
   "source": [
    "batchsize = 64\n",
    "trainloader = torch.utils.data.DataLoader(trainset, batch_size=batchsize, shuffle=True)\n",
    "testloader = torch.utils.data.DataLoader(testset, batch_size=batchsize, shuffle=True)"
   ]
  },
  {
   "cell_type": "markdown",
   "id": "325b3825",
   "metadata": {},
   "source": [
    "## Building the Neural Network"
   ]
  },
  {
   "cell_type": "code",
   "execution_count": 23,
   "id": "1529cfff",
   "metadata": {},
   "outputs": [],
   "source": [
    "lr = 0.0001\n",
    "device = \"cuda\" if torch.cuda.is_available() else \"cpu\""
   ]
  },
  {
   "cell_type": "code",
   "execution_count": 42,
   "id": "38b1caef",
   "metadata": {},
   "outputs": [],
   "source": [
    "class Net(nn.Module):\n",
    "    def __init__(self):\n",
    "        super(Net, self).__init__()\n",
    "        \n",
    "        # fully connected layers\n",
    "        self.linears = nn.Sequential(\n",
    "            # (input vector size, number of neurons)\n",
    "            nn.Linear(784, 10),\n",
    "#             nn.BatchNorm1d(10),\n",
    "            nn.ReLU(),\n",
    "            nn.Linear(10, 10)\n",
    "        )\n",
    "\n",
    "    def forward(self, x):\n",
    "        x = self.linears(x)\n",
    "        return x"
   ]
  },
  {
   "cell_type": "code",
   "execution_count": 43,
   "id": "06b74f6d",
   "metadata": {},
   "outputs": [
    {
     "name": "stdout",
     "output_type": "stream",
     "text": [
      "Net(\n",
      "  (linears): Sequential(\n",
      "    (0): Linear(in_features=784, out_features=10, bias=True)\n",
      "    (1): BatchNorm1d(10, eps=1e-05, momentum=0.1, affine=True, track_running_stats=True)\n",
      "    (2): ReLU()\n",
      "    (3): Linear(in_features=10, out_features=10, bias=True)\n",
      "  )\n",
      ")\n"
     ]
    }
   ],
   "source": [
    "model = Net().to(device)\n",
    "print(model)\n",
    "optimizer = optim.Adam(model.parameters(), lr=lr)\n",
    "criterion_CE = nn.CrossEntropyLoss().to(device)"
   ]
  },
  {
   "cell_type": "code",
   "execution_count": 44,
   "id": "f4637c92",
   "metadata": {},
   "outputs": [
    {
     "name": "stdout",
     "output_type": "stream",
     "text": [
      "Starting epoch 0 of 3\n",
      "Loss: 1.4095832109451294\n",
      "Starting epoch 1 of 3\n",
      "Loss: 1.1788883209228516\n",
      "Starting epoch 2 of 3\n",
      "Loss: 0.8804494142532349\n"
     ]
    }
   ],
   "source": [
    "epoch = 3\n",
    "model.train()\n",
    "for e in range(epoch):\n",
    "    print(f'Starting epoch {e} of {epoch}')\n",
    "    for X, y in trainloader:\n",
    "        X = X.view(X.size(0), -1)\n",
    "        X = X.to(device)\n",
    "        predictions = model(X) # prediction\n",
    "        \n",
    "        optimizer.zero_grad() # optimzer clean (remove previous gradient)\n",
    "        loss = criterion_CE(predictions, y) # loss calculate\n",
    "        loss.backward() # gradient calculate\n",
    "        optimizer.step() # apply calculated gradient\n",
    "    print(f'Loss: {loss.item()}')\n",
    "\n",
    "torch.save(model.state_dict(), \"model.pt\")"
   ]
  },
  {
   "cell_type": "code",
   "execution_count": 45,
   "id": "288dfd96",
   "metadata": {},
   "outputs": [
    {
     "name": "stdout",
     "output_type": "stream",
     "text": [
      "accuracy: 8039/10000 (0.8039 or 80.39%)\n"
     ]
    }
   ],
   "source": [
    "model.eval()\n",
    "correct = 0\n",
    "for X, y in testloader:\n",
    "    with torch.no_grad():\n",
    "        X = X.view(X.size(0), -1)\n",
    "        X = X.to(device)\n",
    "        output = model(X)\n",
    "        predictions = output.max(1)[1]\n",
    "        correct += torch.eq(predictions, y).sum()\n",
    "\n",
    "print(f'accuracy: {int(correct)}/{len(testloader.dataset)} ({int(correct)/len(testloader.dataset)} or {int(correct)/len(testloader.dataset) * 100}%)')"
   ]
  },
  {
   "cell_type": "code",
   "execution_count": null,
   "id": "e96fcc66",
   "metadata": {},
   "outputs": [],
   "source": []
  }
 ],
 "metadata": {
  "kernelspec": {
   "display_name": "Python 3",
   "language": "python",
   "name": "python3"
  },
  "language_info": {
   "codemirror_mode": {
    "name": "ipython",
    "version": 3
   },
   "file_extension": ".py",
   "mimetype": "text/x-python",
   "name": "python",
   "nbconvert_exporter": "python",
   "pygments_lexer": "ipython3",
   "version": "3.7.10"
  }
 },
 "nbformat": 4,
 "nbformat_minor": 5
}
